{
 "cells": [
  {
   "cell_type": "code",
   "execution_count": 33,
   "id": "7f1f980c",
   "metadata": {},
   "outputs": [
    {
     "name": "stdout",
     "output_type": "stream",
     "text": [
      "15\n"
     ]
    },
    {
     "data": {
      "text/plain": [
       "{0: 1, 1: 8, 2: 2, 3: 2, 4: 2, 5: 2, 6: 1, 7: 1, 8: 1, 9: 1}"
      ]
     },
     "execution_count": 33,
     "metadata": {},
     "output_type": "execute_result"
    }
   ],
   "source": [
    "import numpy as np\n",
    "def digit_count(n):\n",
    "    D = dict()\n",
    "    for i in range(0,10):\n",
    "        count = 0\n",
    "        for j in range(1,n+1):\n",
    "            count += str(j).count(str(i))\n",
    "        D[i]=count\n",
    "    return D\n",
    "\n",
    "n = int(input())\n",
    "digit_count(n)"
   ]
  },
  {
   "cell_type": "code",
   "execution_count": 67,
   "id": "0d4ca5a9",
   "metadata": {},
   "outputs": [
    {
     "data": {
      "text/plain": [
       "array([[10, 13],\n",
       "       [16, 16]])"
      ]
     },
     "execution_count": 67,
     "metadata": {},
     "output_type": "execute_result"
    }
   ],
   "source": [
    "#2) oppe1 question\n",
    "import numpy as np\n",
    "def mat_sum(A,B,C):\n",
    "    if len(A)==len(B)==len(C) and len(A[0])==len(B[0])==len(C[0]):\n",
    "        sum_mat = np.zeros((len(A),len(A[0])),dtype = int)\n",
    "        for i in range(len(A)):\n",
    "            for j in range(len(A[0])):\n",
    "                sum_mat[i][j] = A[i][j]+B[i][j]+C[i][j]\n",
    "        \n",
    "        return sum_mat\n",
    "        \n",
    "        \n",
    "    else:\n",
    "        return -1\n",
    "    \n",
    "    \n",
    "A = [[1,2],[2,3]]\n",
    "B = [[2,3],[5,6]]\n",
    "C = [[7,8],[9,7]]\n",
    "mat_sum(A,B,C)"
   ]
  },
  {
   "cell_type": "code",
   "execution_count": 160,
   "id": "5cb2e696",
   "metadata": {},
   "outputs": [
    {
     "data": {
      "text/plain": [
       "[[1, 1, 2, 3], [1, 4, 5, 6]]"
      ]
     },
     "execution_count": 160,
     "metadata": {},
     "output_type": "execute_result"
    }
   ],
   "source": [
    "# def add_one(M):\n",
    "#     one_add = np.zeros((len(M),len(M[0])+1),dtype = int)\n",
    "#     for i in range(len(M)):\n",
    "#         for j in range(len(M[0])+1):\n",
    "#             if j ==0:\n",
    "#                 one_add[i][j]=1\n",
    "#             else:\n",
    "#                 one_add[i][j]= M[i][j-1]\n",
    "#     return one_add\n",
    "def add_one(M):\n",
    "    for i in range(len(M)):\n",
    "        M[i].insert(0,1)\n",
    "    return M\n",
    "M = [[1,2,3],[4,5,6]]\n",
    "add_one(M)"
   ]
  },
  {
   "cell_type": "code",
   "execution_count": 138,
   "id": "7198146d",
   "metadata": {},
   "outputs": [],
   "source": [
    "def primes_galore(L):\n",
    "    count,k = 0,2\n",
    "    for i in L[2:]:\n",
    "        prime = True\n",
    "        for j in range(2,i):\n",
    "            if (i%j==0 and i!=2):\n",
    "                prime = False\n",
    "                break        \n",
    "        for j in range(2,k):\n",
    "            if k%j ==0:\n",
    "                prime = False\n",
    "                break\n",
    "        if prime and i!=1:\n",
    "            count+=1\n",
    "        k+=1\n",
    "    return count"
   ]
  },
  {
   "cell_type": "code",
   "execution_count": 143,
   "id": "0a6573dd",
   "metadata": {},
   "outputs": [
    {
     "data": {
      "text/plain": [
       "2"
      ]
     },
     "execution_count": 143,
     "metadata": {},
     "output_type": "execute_result"
    }
   ],
   "source": [
    "L = [1,3,11,18,17,23,6,8,10]\n",
    "primes_galore(L)"
   ]
  },
  {
   "cell_type": "code",
   "execution_count": 155,
   "id": "0bf16b51",
   "metadata": {},
   "outputs": [
    {
     "data": {
      "text/plain": [
       "(3, [3, 2, 1])"
      ]
     },
     "execution_count": 155,
     "metadata": {},
     "output_type": "execute_result"
    }
   ],
   "source": [
    "def longest_streak(L):\n",
    "    count = 0\n",
    "    l = []\n",
    "    for i in L:\n",
    "        if i>=100:\n",
    "            count +=1\n",
    "        else:\n",
    "            if count !=0:\n",
    "                l.append(count)\n",
    "            count = 0\n",
    "    l.sort(reverse=True)\n",
    "    \n",
    "    return len(l),l\n",
    "\n",
    "L = [150,20,0,100,120,201,0,101,141,40,20]\n",
    "longest_streak(L)"
   ]
  },
  {
   "cell_type": "code",
   "execution_count": 156,
   "id": "a3d02d4a",
   "metadata": {},
   "outputs": [],
   "source": [
    "l = [1,2,3,4]\n",
    "l.insert(0,1)\n",
    "l.count()"
   ]
  },
  {
   "cell_type": "code",
   "execution_count": 166,
   "id": "5714aa6c",
   "metadata": {},
   "outputs": [
    {
     "data": {
      "text/plain": [
       "2"
      ]
     },
     "execution_count": 166,
     "metadata": {},
     "output_type": "execute_result"
    }
   ],
   "source": [
    "def equidistant(L,p):\n",
    "    l = []\n",
    "    for i in L:\n",
    "        l.append((abs(i[0]-p[0])+abs(i[1]-p[1])))\n",
    "    max = 0\n",
    "    for i in l:\n",
    "        if max<l.count(i):\n",
    "            max = l.count(i)\n",
    "    return max\n",
    "L = [(1,2),(3,4),(1,3),(4,5),(6,4)]\n",
    "p = (2,3)\n",
    "equidistant(L,p)"
   ]
  },
  {
   "cell_type": "code",
   "execution_count": 16,
   "id": "a1832510",
   "metadata": {},
   "outputs": [],
   "source": [
    "def is_function(domain,co_domain,fun):\n",
    "    flag = False\n",
    "    for i in fun.keys():\n",
    "        if i in domain and len(fun.keys())==len(domain):\n",
    "            flag = True\n",
    "        else: \n",
    "            flag = False\n",
    "            break\n",
    "    if flag:  \n",
    "        for i in fun.values():\n",
    "            if i in co_domain:\n",
    "                flag = True\n",
    "            else:\n",
    "                flag = False\n",
    "                break\n",
    "    return flag\n"
   ]
  },
  {
   "cell_type": "code",
   "execution_count": 12,
   "id": "a84473d0",
   "metadata": {},
   "outputs": [
    {
     "data": {
      "text/plain": [
       "'adhss'"
      ]
     },
     "execution_count": 12,
     "metadata": {},
     "output_type": "execute_result"
    }
   ],
   "source": [
    "n = \"sashd\"\n",
    "\"\".join(sorted(n))"
   ]
  },
  {
   "cell_type": "code",
   "execution_count": 20,
   "id": "e20ab9ac",
   "metadata": {},
   "outputs": [
    {
     "name": "stdout",
     "output_type": "stream",
     "text": [
      "87\\\n",
      "8y\n",
      "False\n"
     ]
    }
   ],
   "source": [
    "a = input()\n",
    "b = input()\n",
    "flag = False\n",
    "for i in sorted(a):\n",
    "    if i in b:\n",
    "        flag = True\n",
    "    else:\n",
    "        flag =False\n",
    "        break\n",
    "print(flag)"
   ]
  },
  {
   "cell_type": "code",
   "execution_count": 21,
   "id": "85fcc69b",
   "metadata": {},
   "outputs": [],
   "source": [
    "from collections import OrderedDict\n",
    "def age_sort(p):\n",
    "    d = OrderedDict(sorted(p.items(),reverse=True))\n",
    "    c = dict()\n",
    "   \n",
    "    for i in list(d):\n",
    "        c[i] = p[i]\n",
    "    return c\n"
   ]
  },
  {
   "cell_type": "code",
   "execution_count": null,
   "id": "030aad97",
   "metadata": {},
   "outputs": [],
   "source": []
  },
  {
   "cell_type": "code",
   "execution_count": 19,
   "id": "89864eba",
   "metadata": {},
   "outputs": [
    {
     "data": {
      "text/plain": [
       "5"
      ]
     },
     "execution_count": 19,
     "metadata": {},
     "output_type": "execute_result"
    }
   ],
   "source": [
    "def fibo(n):\n",
    "    if n == 1 :\n",
    "        return 1\n",
    "    return fibo(n-1) +1\n",
    "fibo(5)"
   ]
  },
  {
   "cell_type": "code",
   "execution_count": null,
   "id": "773235f3",
   "metadata": {},
   "outputs": [],
   "source": []
  },
  {
   "cell_type": "code",
   "execution_count": null,
   "id": "b927ed40",
   "metadata": {},
   "outputs": [],
   "source": []
  }
 ],
 "metadata": {
  "kernelspec": {
   "display_name": "Python 3 (ipykernel)",
   "language": "python",
   "name": "python3"
  },
  "language_info": {
   "codemirror_mode": {
    "name": "ipython",
    "version": 3
   },
   "file_extension": ".py",
   "mimetype": "text/x-python",
   "name": "python",
   "nbconvert_exporter": "python",
   "pygments_lexer": "ipython3",
   "version": "3.9.13"
  }
 },
 "nbformat": 4,
 "nbformat_minor": 5
}
