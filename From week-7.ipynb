{
 "cells": [
  {
   "cell_type": "markdown",
   "id": "ced26b67",
   "metadata": {},
   "source": [
    "You are given certain details of the trains that stop at a station. Your task is to store these details in a nested dictionary.\n",
    "\n",
    "The first line of input is \n",
    "n\n",
    "n, the number of trains that stop at the station. \n",
    "n\n",
    "n blocks of input follow. The first line in each block corresponds to the train name. The second line in each block corresponds to \n",
    "m\n",
    "m, the number of compartments in the train. \n",
    "m\n",
    "m lines of input follow. Each of these \n",
    "m\n",
    "m lines has two values separated by a comma: name of the compartment and number of passengers in it.\n",
    "\n",
    "Your task is to create a nested dictionary named station_dict. The keys of the dictionary are train names, the value corresponding to a key is another dictionary. The keys of the inner dictionary are the compartment names in this train, the values are the number of passengers in each compartment. For example:\n",
    "\n",
    "{\n",
    "    'Mumbai Express': {\n",
    "        'S1': 10,\n",
    "        'S2': 20,\n",
    "        'S3': 30\n",
    "    },\n",
    "    'Chennai Express': {\n",
    "        'S1': 10,\n",
    "        'S2': 20,\n",
    "        'S3': 30\n",
    "    }\n",
    "  }\n",
    "\n",
    "(1) The values of the compartments should be represented as integers and not as strings. \n",
    "(2) You do not have to print the output to the console. Do not try to print the output that you observe in the \"Expected Output\". You just have to process the input and create the dictionary station_dict."
   ]
  },
  {
   "cell_type": "code",
   "execution_count": 86,
   "id": "eb8cf503",
   "metadata": {},
   "outputs": [
    {
     "name": "stdout",
     "output_type": "stream",
     "text": [
      "csk,sh,dc,kkr,rcb\n",
      "Mi,kkr\n",
      "SH,rcb,rr\n",
      "KRR,sh\n",
      "bar,aks\n",
      "ska,das\n",
      "sad,sda\n",
      "das,das\n",
      "csk:4\n",
      "SH:2\n",
      "KRR:1\n",
      "Mi:1\n",
      "bar:1\n",
      "das:1\n",
      "sad:1\n",
      "ska:1\n"
     ]
    }
   ],
   "source": [
    "d = {}\n",
    "for i in range(8):\n",
    "    k = list(map(str,input().split(',')))\n",
    "    d[k[0]] = len(k)-1\n",
    "a =sorted(d.items(),key=lambda x : (x[1],x[1]),reverse=True)\n",
    "k = dict()\n",
    "for i in a:\n",
    "    if i[1] not in k.keys():\n",
    "        k[i[1]] = []\n",
    "        k[i[1]].append(i[0])\n",
    "    else:\n",
    "        k[i[1]].append(i[0])\n",
    "for i in k.keys():\n",
    "    for j in sorted(k[i]):\n",
    "        print(f\"{j}:{i}\")"
   ]
  },
  {
   "cell_type": "code",
   "execution_count": 3,
   "id": "a1a6e94e",
   "metadata": {},
   "outputs": [
    {
     "name": "stdout",
     "output_type": "stream",
     "text": [
      "{'mumbai express': {'s1': 10, 's2': 20}, 'Chennai express': {'s1': 30, 's2': 21, 's3': 90}}\n"
     ]
    }
   ],
   "source": [
    "print(station_dict)"
   ]
  },
  {
   "cell_type": "markdown",
   "id": "979aeb61",
   "metadata": {},
   "source": [
    "## Given a square matrix \n",
    "M\n",
    "M and two indices \n",
    "(\n",
    "i\n",
    ",\n",
    "j\n",
    ")\n",
    "(i,j), \n",
    "M\n",
    "i\n",
    "j\n",
    "M \n",
    "ij\n",
    "  is the matrix obtained by removing the i \n",
    "th\n",
    "  row and the \n",
    "j \n",
    "th\n",
    "  column of \n",
    "M.\n",
    "Write a function named minor_matrix that accepts three arguments:\n",
    "M: a square matrix\n",
    "i: a non-negative integer\n",
    "j: a non-negative integer\n",
    "The function should return the matrix \n",
    "M \n",
    "ij after removing the \n",
    "i \n",
    "th row and the \n",
    "j \n",
    "th\n",
    "  column of \n",
    "M. Note that we use zero-based indexing throughout. That is, if the matrix \n",
    "M is of dimensions \n",
    "n\n",
    "n×n, then we have \n",
    "1\n",
    "0≤i,j≤n−1.\n",
    "\n",
    "(1) You can assume that the number of rows in \n",
    "\n",
    "M will be at least \n",
    "\n",
    "3 in each test case.\n",
    "\n",
    "(2) You do not have to accept input from the user or print the output to the console."
   ]
  },
  {
   "cell_type": "code",
   "execution_count": 12,
   "id": "b23cfd68",
   "metadata": {},
   "outputs": [],
   "source": [
    "def minor_matrix(M,i,j):\n",
    "    l = []\n",
    "    for a in range(len(M)):\n",
    "        t = []\n",
    "        if a==i:\n",
    "            continue\n",
    "        else:\n",
    "            for b in range(len(M[0])):\n",
    "                if b ==j:\n",
    "                    continue\n",
    "                else:\n",
    "                    t.append(M[a][b])\n",
    "        l.append(t)\n",
    "    return l"
   ]
  },
  {
   "cell_type": "code",
   "execution_count": 92,
   "id": "a3324b3f",
   "metadata": {},
   "outputs": [
    {
     "data": {
      "text/plain": [
       "[[2, 3], [4, 2]]"
      ]
     },
     "execution_count": 92,
     "metadata": {},
     "output_type": "execute_result"
    }
   ],
   "source": [
    "def minor_matrix(M, i, j):\n",
    "    M.remove(M[i])\n",
    "    l = []\n",
    "    for k in M:\n",
    "        l.append(k[:j]+k[j+1:])\n",
    "    return l\n",
    "M = [[1,2,3],[2,3,2],[4,2,3]]\n",
    "minor_matrix(M,0,2)\n"
   ]
  },
  {
   "cell_type": "markdown",
   "id": "3dee3a76",
   "metadata": {},
   "source": [
    "Two dictionaries D1 and D2 can be merged to create a new dictionary D that has the following structure:\n",
    "\n",
    "Each key-value pair in D is present either in D1 or D2.\n",
    "Each key in D1 is also a key in D. Likewise, each key in D2 is also a key in D.\n",
    "\n",
    "If a particular key is common to both D1 and D2, the value corresponding to this key in one of the two dictionaries is retained in D.\n",
    "\n",
    "Write a function named merge that accepts the following arguments:\n",
    "\n",
    "D1: first dictionary\n",
    "D2: second dictionary\n",
    "priority: The is a string variable that denotes the priority given to common keys while merging. That is, if both D1 and D2 have a key in common, then this variable will determine which value needs to be retained. More specifically, priority can take one of these two values:\n",
    "\"first\": retain the value corresponding to the common key present in the first dictionary\n",
    "\"second\": retain the value corresponding to the common key present in the second dictionary\n"
   ]
  },
  {
   "cell_type": "code",
   "execution_count": 15,
   "id": "59ff88df",
   "metadata": {},
   "outputs": [],
   "source": [
    "def merge(D1, D2, priority):\n",
    "    d = dict()\n",
    "    if priority ==\"first\":\n",
    "        for i in D1.keys():\n",
    "            d[i] = D1[i]\n",
    "            \n",
    "        for i in D2.keys():\n",
    "            if i not in D1.keys():\n",
    "                d[i] = D2[i]\n",
    "        return d\n",
    "    else:\n",
    "        for i in D2.keys():\n",
    "            if i in D1.keys():\n",
    "                d[i] = D2[i]\n",
    "        for i in D1.keys():\n",
    "            if i not in D2.keys():\n",
    "                d[i] = D1[i]\n",
    "        for i in D2.keys():\n",
    "            if i not in d.keys():\n",
    "                d[i] = D2[i]\n",
    "        return d"
   ]
  },
  {
   "cell_type": "code",
   "execution_count": null,
   "id": "6b351451",
   "metadata": {},
   "outputs": [],
   "source": []
  },
  {
   "cell_type": "code",
   "execution_count": null,
   "id": "479fd29a",
   "metadata": {},
   "outputs": [],
   "source": []
  },
  {
   "cell_type": "code",
   "execution_count": 47,
   "id": "e476d34b",
   "metadata": {},
   "outputs": [
    {
     "data": {
      "text/plain": [
       "[('d', 23), ('b', 12), ('c', 4), ('a', 3)]"
      ]
     },
     "execution_count": 47,
     "metadata": {},
     "output_type": "execute_result"
    }
   ],
   "source": [
    "l = {\"a\":3,'d':23,\"c\":4,'b':12}\n",
    "sorted(l.items(),key=lambda x : (x[1]),reverse=True)"
   ]
  },
  {
   "cell_type": "code",
   "execution_count": 85,
   "id": "0f5ff133",
   "metadata": {},
   "outputs": [
    {
     "name": "stdout",
     "output_type": "stream",
     "text": [
      "SH:5\n",
      "KKR:4\n",
      "PK:4\n",
      "CSK:3\n",
      "DC:3\n",
      "MI:3\n",
      "RCB:3\n",
      "RR:3\n"
     ]
    }
   ],
   "source": [
    "\n",
    "d = {'CSK': 3, 'DC': 3, 'KKR': 4, 'MI': 3, 'PK': 4, 'RR': 3, 'RCB': 3, 'SH': 5}\n",
    "a = sorted(d.items(),key=lambda x : (x[1],x[1]),reverse=True)\n",
    "d = dict()\n",
    "for i in a:\n",
    "    if i[1] not in d.keys():\n",
    "        d[i[1]] = []\n",
    "        \n",
    "        d[i[1]].append(i[0])\n",
    "    else:\n",
    "        d[i[1]].append(i[0])\n",
    "for i in d.keys():\n",
    "    p=list(d[i])\n",
    "    \n",
    "    for j in sorted(p):\n",
    "        print(f\"{j}:{i}\")"
   ]
  },
  {
   "cell_type": "code",
   "execution_count": 75,
   "id": "aabd541e",
   "metadata": {},
   "outputs": [
    {
     "data": {
      "text/plain": [
       "['aas']"
      ]
     },
     "execution_count": 75,
     "metadata": {},
     "output_type": "execute_result"
    }
   ],
   "source": [
    "l = ['aas']\n",
    "l.sort()\n",
    "l"
   ]
  },
  {
   "cell_type": "markdown",
   "id": "5e3ce36c",
   "metadata": {},
   "source": [
    "Write a recursive function named count that accepts the following arguments:\n",
    "\n",
    "L: list of words\n",
    "word: a word, could be any string\n",
    "This function should return the number of occurrences of word in L.\n",
    "\n",
    "(1) You cannot use the built-in count method for lists in this problem.\n",
    "\n",
    "(2) All words will be in lower case.\n",
    "\n",
    "(3) You do not have to accept input from the user or print the output to the console. You just have to write the definition of both the functions."
   ]
  },
  {
   "cell_type": "code",
   "execution_count": 32,
   "id": "b0f51b37",
   "metadata": {},
   "outputs": [
    {
     "data": {
      "text/plain": [
       "4"
      ]
     },
     "execution_count": 32,
     "metadata": {},
     "output_type": "execute_result"
    }
   ],
   "source": [
    "def count(L,word):\n",
    "    if len(L)==0:\n",
    "        return 0\n",
    "    elif L[0]==word:\n",
    "        return 1+ count(L[1:],word)\n",
    "    else:\n",
    "        return count(L[1:],word)\n",
    "L = ['good', 'string', 'good', 'again', 'good','good']\n",
    "count(L,\"good\")"
   ]
  },
  {
   "cell_type": "markdown",
   "id": "8effdd7f",
   "metadata": {},
   "source": [
    "### I want to write a factorial by recursive function\n"
   ]
  },
  {
   "cell_type": "code",
   "execution_count": 35,
   "id": "c934e82d",
   "metadata": {},
   "outputs": [
    {
     "data": {
      "text/plain": [
       "720"
      ]
     },
     "execution_count": 35,
     "metadata": {},
     "output_type": "execute_result"
    }
   ],
   "source": [
    "def fact(n):\n",
    "    if n==0:\n",
    "        return 1\n",
    "    else:\n",
    "        return n*fact(n-1)\n",
    "fact(6)"
   ]
  },
  {
   "cell_type": "markdown",
   "id": "23dbec63",
   "metadata": {},
   "source": [
    "### I want sum of AP by Recursive Function"
   ]
  },
  {
   "cell_type": "code",
   "execution_count": 27,
   "id": "20f8be74",
   "metadata": {},
   "outputs": [
    {
     "data": {
      "text/plain": [
       "55"
      ]
     },
     "execution_count": 27,
     "metadata": {},
     "output_type": "execute_result"
    }
   ],
   "source": [
    "def sum_ap(n,d,a):\n",
    "    if n==0:\n",
    "        return 0\n",
    "    else:\n",
    "        return (a+sum_ap(n-1,d,a+d))\n",
    "sum_ap(10,1,1)"
   ]
  },
  {
   "cell_type": "markdown",
   "id": "c8ad5311",
   "metadata": {},
   "source": [
    " Write a recursive function named #non_decreasing# that accepts a non-empty list L of integers as argument and returns True if the elements are sorted in non-decreasing order from left to right, and False otherwise.\n",
    "\n",
    "You do not have to accept input from the user or print the output to the console. You just have to write the function definition."
   ]
  },
  {
   "cell_type": "code",
   "execution_count": 43,
   "id": "238e2c39",
   "metadata": {},
   "outputs": [
    {
     "data": {
      "text/plain": [
       "False"
      ]
     },
     "execution_count": 43,
     "metadata": {},
     "output_type": "execute_result"
    }
   ],
   "source": [
    "def non_decreasing(L):\n",
    "    if len(L)==1:\n",
    "        return True\n",
    "    elif L[0]<L[1]:\n",
    "        return True and non_decreasing(L[1:])\n",
    "    else:\n",
    "        return False\n",
    "L = [1,2,9,3,4,5]\n",
    "non_decreasing(L)"
   ]
  },
  {
   "cell_type": "markdown",
   "id": "604b6800",
   "metadata": {},
   "source": [
    "Write a recursive function named uniq that accepts a non-empty list L as argument and returns a new list after removing all duplicates from it. Your function must retain the last occurrence of each distinct element in the list.\n",
    "\n",
    "You do not have to accept input from the user or print the output to the console. You just have to write the function definition."
   ]
  },
  {
   "cell_type": "code",
   "execution_count": 56,
   "id": "60bdbe43",
   "metadata": {},
   "outputs": [
    {
     "data": {
      "text/plain": [
       "[12, 2, 23, 21, 1, 4, 3, 5, 0]"
      ]
     },
     "execution_count": 56,
     "metadata": {},
     "output_type": "execute_result"
    }
   ],
   "source": [
    "def uniq(L):\n",
    "    if len(L)==1:\n",
    "        return L\n",
    "    elif L[0] in L[1:] :\n",
    "        return uniq(L[1:])\n",
    "    else:\n",
    "        return [L[0]] + uniq(L[1:])\n",
    "\n",
    "L=[1,12,1,2,23,21,1,4,3,5,3,5,0]    \n",
    "uniq(L)"
   ]
  },
  {
   "cell_type": "markdown",
   "id": "4a114644",
   "metadata": {},
   "source": [
    "Write a recursive function named search that accepts the following arguments:\n",
    "\n",
    "(1) L: a sorted list of integers\n",
    "\n",
    "(2) k: integer\n",
    "\n",
    "The function should return True if k is found in the list L, and False otherwise.\n",
    "\n",
    "You do not have to accept input from the user or print output to the console. You just have to write the function definition.\n",
    "\n",
    "\n"
   ]
  },
  {
   "cell_type": "code",
   "execution_count": 59,
   "id": "fa09e047",
   "metadata": {},
   "outputs": [
    {
     "data": {
      "text/plain": [
       "True"
      ]
     },
     "execution_count": 59,
     "metadata": {},
     "output_type": "execute_result"
    }
   ],
   "source": [
    "def search(L,k):\n",
    "    if len(L)==0:\n",
    "        return False\n",
    "    elif k not in L:\n",
    "        return search (L[1:],k)\n",
    "    else:\n",
    "        return True\n",
    "L = [-100, -10, 1, 10, 20, 30, 30, 40,31,50]\n",
    "k = 31\n",
    "search(L,k)"
   ]
  },
  {
   "cell_type": "markdown",
   "id": "7a0addd5",
   "metadata": {},
   "source": [
    "Consider a spiral of semicircles. We start at a point \n",
    "P\n",
    "0\n",
    "P \n",
    "0\n",
    "​\t\n",
    "  on the x-axis with coordinates \n",
    "(\n",
    "l\n",
    ",\n",
    "0\n",
    ")\n",
    "(l,0). The first arm of the spiral ends at \n",
    "P\n",
    "1\n",
    "P \n",
    "1\n",
    "​\t\n",
    "  with coordinates \n",
    "(\n",
    "r\n",
    ",\n",
    "0\n",
    ")\n",
    "(r,0). The second arm of the spiral starts at \n",
    "P\n",
    "1\n",
    "P \n",
    "1\n",
    "​\t\n",
    "  and ends at the center of the first arm, \n",
    "P\n",
    "2\n",
    "P \n",
    "2\n",
    "​\t\n",
    " . The third arm starts from \n",
    "P\n",
    "2\n",
    "P \n",
    "2\n",
    "​\t\n",
    "  and ends at \n",
    "P\n",
    "3\n",
    "P \n",
    "3\n",
    "​\t\n",
    "  which happens to be the center of the second arm. And finally, the fourth arm starts at \n",
    "P\n",
    "3\n",
    "P \n",
    "3\n",
    "​\t\n",
    "  and ends at \n",
    "P\n",
    "4\n",
    "P \n",
    "4\n",
    "​\t\n",
    " , the center of the third arm.\n",
    "\n",
    "\n",
    "\n",
    "Write two functions named spiral_iterative and spiral_recursive, each of which accepts three arguments:\n",
    "\n",
    "left: x-coordinate of the point \n",
    "P\n",
    "0\n",
    "P \n",
    "0\n",
    "​\t\n",
    " \n",
    "right: x-coordinate of the point \n",
    "P\n",
    "1\n",
    "P \n",
    "1\n",
    "​\t\n",
    " \n",
    "n: the number of arms in the spiral\n",
    "Both functions should return the the x-coordinate of \n",
    "P\n",
    "n\n",
    "P \n",
    "n\n",
    "​\t\n",
    " , the point at which the \n",
    "n\n",
    "t\n",
    "h\n",
    "n \n",
    "th\n",
    "  arm of the spiral ends.\n",
    "\n",
    "You do not have to accept input from the user or print the output to the console. You just have to write the function definition.\n",
    "\n"
   ]
  },
  {
   "cell_type": "code",
   "execution_count": null,
   "id": "a82a7af7",
   "metadata": {},
   "outputs": [],
   "source": [
    "def spiral_iterative(left,right,n):\n",
    "    for i in range(n-1):\n",
    "        left,right = right,(left+right)/2\n",
    "    return right\n",
    "def spiral_recursive(left,right,n):\n",
    "    if n==1:\n",
    "        return right\n",
    "    return spiral_recursive()"
   ]
  }
 ],
 "metadata": {
  "kernelspec": {
   "display_name": "Python 3 (ipykernel)",
   "language": "python",
   "name": "python3"
  },
  "language_info": {
   "codemirror_mode": {
    "name": "ipython",
    "version": 3
   },
   "file_extension": ".py",
   "mimetype": "text/x-python",
   "name": "python",
   "nbconvert_exporter": "python",
   "pygments_lexer": "ipython3",
   "version": "3.9.13"
  }
 },
 "nbformat": 4,
 "nbformat_minor": 5
}
